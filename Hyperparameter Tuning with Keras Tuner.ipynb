{
 "cells": [
  {
   "cell_type": "markdown",
   "id": "03317bfc-bfa9-47c5-9ca5-10c1fa872ded",
   "metadata": {},
   "source": [
    "### Introduction "
   ]
  },
  {
   "cell_type": "markdown",
   "id": "31ad6270-be0a-4316-80c1-3b489c5b3901",
   "metadata": {},
   "source": [
    "##### Keras Tunner is an open source package for keras, which help machine learning practitioners automate hyper parameter tuning for their curious models"
   ]
  },
  {
   "cell_type": "markdown",
   "id": "2cb68f2b-01bb-4183-9e55-6c5bd405aa94",
   "metadata": {},
   "source": [
    "### Setting Work Envirement"
   ]
  },
  {
   "cell_type": "code",
   "execution_count": 1,
   "id": "c2839bf7-bff0-4ed6-83b4-4153cd1eb94f",
   "metadata": {},
   "outputs": [
    {
     "name": "stdout",
     "output_type": "stream",
     "text": [
      "Collecting keras-tuner\n",
      "  Downloading keras_tuner-1.3.5-py3-none-any.whl (176 kB)\n",
      "     ---------------------------------------- 0.0/176.1 kB ? eta -:--:--\n",
      "     -- ------------------------------------- 10.2/176.1 kB ? eta -:--:--\n",
      "     ------ ------------------------------ 30.7/176.1 kB 325.1 kB/s eta 0:00:01\n",
      "     ------ ------------------------------ 30.7/176.1 kB 325.1 kB/s eta 0:00:01\n",
      "     ------ ------------------------------ 30.7/176.1 kB 325.1 kB/s eta 0:00:01\n",
      "     ------ ------------------------------ 30.7/176.1 kB 325.1 kB/s eta 0:00:01\n",
      "     ------ ------------------------------ 30.7/176.1 kB 325.1 kB/s eta 0:00:01\n",
      "     -------- ---------------------------- 41.0/176.1 kB 115.5 kB/s eta 0:00:02\n",
      "     -------- ---------------------------- 41.0/176.1 kB 115.5 kB/s eta 0:00:02\n",
      "     ------------ ------------------------ 61.4/176.1 kB 130.9 kB/s eta 0:00:01\n",
      "     ------------ ------------------------ 61.4/176.1 kB 130.9 kB/s eta 0:00:01\n",
      "     ------------ ------------------------ 61.4/176.1 kB 130.9 kB/s eta 0:00:01\n",
      "     --------------- --------------------- 71.7/176.1 kB 122.9 kB/s eta 0:00:01\n",
      "     --------------- --------------------- 71.7/176.1 kB 122.9 kB/s eta 0:00:01\n",
      "     --------------- --------------------- 71.7/176.1 kB 122.9 kB/s eta 0:00:01\n",
      "     ------------------- ----------------- 92.2/176.1 kB 127.8 kB/s eta 0:00:01\n",
      "     ------------------- ----------------- 92.2/176.1 kB 127.8 kB/s eta 0:00:01\n",
      "     ------------------- ----------------- 92.2/176.1 kB 127.8 kB/s eta 0:00:01\n",
      "     ----------------------- ------------ 112.6/176.1 kB 131.1 kB/s eta 0:00:01\n",
      "     ----------------------- ------------ 112.6/176.1 kB 131.1 kB/s eta 0:00:01\n",
      "     ------------------------- ---------- 122.9/176.1 kB 126.4 kB/s eta 0:00:01\n",
      "     ------------------------- ---------- 122.9/176.1 kB 126.4 kB/s eta 0:00:01\n",
      "     ----------------------------- ------ 143.4/176.1 kB 135.1 kB/s eta 0:00:01\n",
      "     ----------------------------- ------ 143.4/176.1 kB 135.1 kB/s eta 0:00:01\n",
      "     ----------------------------- ------ 143.4/176.1 kB 135.1 kB/s eta 0:00:01\n",
      "     ------------------------------- ---- 153.6/176.1 kB 127.4 kB/s eta 0:00:01\n",
      "     ------------------------------- ---- 153.6/176.1 kB 127.4 kB/s eta 0:00:01\n",
      "     ------------------------------- ---- 153.6/176.1 kB 127.4 kB/s eta 0:00:01\n",
      "     ------------------------------------ 176.1/176.1 kB 131.0 kB/s eta 0:00:00\n",
      "Requirement already satisfied: packaging in d:\\miniconda\\envs\\ml\\lib\\site-packages (from keras-tuner) (23.1)\n",
      "Requirement already satisfied: requests in d:\\miniconda\\envs\\ml\\lib\\site-packages (from keras-tuner) (2.31.0)\n",
      "Collecting kt-legacy (from keras-tuner)\n",
      "  Downloading kt_legacy-1.0.5-py3-none-any.whl (9.6 kB)\n",
      "Requirement already satisfied: charset-normalizer<4,>=2 in d:\\miniconda\\envs\\ml\\lib\\site-packages (from requests->keras-tuner) (3.2.0)\n",
      "Requirement already satisfied: idna<4,>=2.5 in d:\\miniconda\\envs\\ml\\lib\\site-packages (from requests->keras-tuner) (3.4)\n",
      "Requirement already satisfied: urllib3<3,>=1.21.1 in d:\\miniconda\\envs\\ml\\lib\\site-packages (from requests->keras-tuner) (1.26.16)\n",
      "Requirement already satisfied: certifi>=2017.4.17 in d:\\miniconda\\envs\\ml\\lib\\site-packages (from requests->keras-tuner) (2023.7.22)\n",
      "Installing collected packages: kt-legacy, keras-tuner\n",
      "Successfully installed keras-tuner-1.3.5 kt-legacy-1.0.5\n"
     ]
    }
   ],
   "source": [
    "!pip install keras-tuner"
   ]
  },
  {
   "cell_type": "code",
   "execution_count": 4,
   "id": "19d02762-526c-4afc-8d9b-0db04152ad93",
   "metadata": {},
   "outputs": [
    {
     "name": "stderr",
     "output_type": "stream",
     "text": [
      "C:\\Users\\Firas\\AppData\\Local\\Temp\\ipykernel_10008\\47444340.py:2: DeprecationWarning: `import kerastuner` is deprecated, please use `import keras_tuner`.\n",
      "  import kerastuner\n"
     ]
    }
   ],
   "source": [
    "import tensorflow as tf \n",
    "import kerastuner\n",
    "import matplotlib.pyplot as plt\n",
    "import numpy as np"
   ]
  },
  {
   "cell_type": "code",
   "execution_count": 5,
   "id": "721d152a-b20a-4138-bc19-2e1d4c3f4c0a",
   "metadata": {},
   "outputs": [
    {
     "name": "stdout",
     "output_type": "stream",
     "text": [
      "Downloading data from https://storage.googleapis.com/tensorflow/tf-keras-datasets/train-labels-idx1-ubyte.gz\n",
      "29515/29515 [==============================] - 0s 16us/step\n",
      "Downloading data from https://storage.googleapis.com/tensorflow/tf-keras-datasets/train-images-idx3-ubyte.gz\n",
      "26421880/26421880 [==============================] - 277s 10us/step\n",
      "Downloading data from https://storage.googleapis.com/tensorflow/tf-keras-datasets/t10k-labels-idx1-ubyte.gz\n",
      "5148/5148 [==============================] - 0s 0s/step\n",
      "Downloading data from https://storage.googleapis.com/tensorflow/tf-keras-datasets/t10k-images-idx3-ubyte.gz\n",
      "4422102/4422102 [==============================] - 12s 3us/step\n"
     ]
    }
   ],
   "source": [
    "(x_train,y_train),(x_test,y_test)=tf.keras.datasets.fashion_mnist.load_data()"
   ]
  },
  {
   "cell_type": "code",
   "execution_count": 7,
   "id": "875d2ceb-c72b-4a8f-b67d-7ddc57e6196f",
   "metadata": {},
   "outputs": [
    {
     "data": {
      "text/plain": [
       "(60000, 28, 28)"
      ]
     },
     "execution_count": 7,
     "metadata": {},
     "output_type": "execute_result"
    }
   ],
   "source": [
    "x_train.shape"
   ]
  },
  {
   "cell_type": "code",
   "execution_count": 8,
   "id": "e89ebbaa-565d-4c84-bfc2-920025037458",
   "metadata": {},
   "outputs": [
    {
     "data": {
      "text/plain": [
       "{0, 1, 2, 3, 4, 5, 6, 7, 8, 9}"
      ]
     },
     "execution_count": 8,
     "metadata": {},
     "output_type": "execute_result"
    }
   ],
   "source": [
    "set(y_train)"
   ]
  },
  {
   "cell_type": "code",
   "execution_count": 11,
   "id": "ca141c1a-fb74-44a7-b3ef-f92559f27258",
   "metadata": {},
   "outputs": [
    {
     "data": {
      "image/png": "[encoded data removed]",
      "text/plain": [
       "<Figure size 640x480 with 1 Axes>"
      ]
     },
     "metadata": {},
     "output_type": "display_data"
    }
   ],
   "source": [
    "plt.imshow(x_train[0],cmap='binary')\n",
    "plt.xlabel(y_train[0])\n",
    "plt.show()"
   ]
  },
  {
   "cell_type": "markdown",
   "id": "56ff1502-ae83-424a-b60b-2a9067faac62",
   "metadata": {},
   "source": [
    "### Creating The Model"
   ]
  },
  {
   "cell_type": "code",
   "execution_count": 38,
   "id": "d8f4f4da-ba39-440e-ad75-f70bd6e38fe6",
   "metadata": {},
   "outputs": [],
   "source": [
    "def create_model(hyperparameter):\n",
    "    \n",
    "    num_hidden_layers = 1\n",
    "    num_units=8\n",
    "    dropout_rate=0.1\n",
    "    learning_rate=0.01\n",
    "    if hyperparameter:\n",
    "        num_hidden_layers=hyperparameter.Choice('num_hidden_layers',values=[1,2,3])\n",
    "        num_units=hyperparameter.Choice('num_units',values=[8,16,32])\n",
    "        dropout_rate=hyperparameter.Float('dropout_rate',min_value=0.1,max_value=0.5)\n",
    "        learning_rate=hyperparameter.Float('learning_rate',min_value=0.0001,max_value=0.01)\n",
    "    model=tf.keras.models.Sequential()\n",
    "    model.add(tf.keras.layers.Flatten(input_shape=(28,28)))\n",
    "    model.add(tf.keras.layers.Lambda(lambda x : x/255.))\n",
    "    for _ in range(0,num_hidden_layers):\n",
    "        model.add(tf.keras.layers.Dense(num_units,activation='relu'))\n",
    "        model.add(tf.keras.layers.Dropout(dropout_rate))\n",
    "    model.add(tf.keras.layers.Dense(10,activation='softmax'))\n",
    "    model.compile(\n",
    "        loss='sparse_categorical_crossentropy',\n",
    "        optimizer= tf.keras.optimizers.Adam(learning_rate=learning_rate),\n",
    "        metrics=['accuracy']\n",
    "    )\n",
    "    return model \n"
   ]
  },
  {
   "cell_type": "code",
   "execution_count": 39,
   "id": "f87f0d56-1d99-4d0f-945d-06f5fc532626",
   "metadata": {},
   "outputs": [
    {
     "name": "stdout",
     "output_type": "stream",
     "text": [
      "Model: \"sequential_1\"\n",
      "_________________________________________________________________\n",
      " Layer (type)                Output Shape              Param #   \n",
      "=================================================================\n",
      " flatten_1 (Flatten)         (None, 784)               0         \n",
      "                                                                 \n",
      " lambda_1 (Lambda)           (None, 784)               0         \n",
      "                                                                 \n",
      " dense_3 (Dense)             (None, 8)                 6280      \n",
      "                                                                 \n",
      " dropout_2 (Dropout)         (None, 8)                 0         \n",
      "                                                                 \n",
      " dense_4 (Dense)             (None, 10)                90        \n",
      "                                                                 \n",
      "=================================================================\n",
      "Total params: 6370 (24.88 KB)\n",
      "Trainable params: 6370 (24.88 KB)\n",
      "Non-trainable params: 0 (0.00 Byte)\n",
      "_________________________________________________________________\n"
     ]
    }
   ],
   "source": [
    "create_model(None).summary()"
   ]
  },
  {
   "cell_type": "code",
   "execution_count": 45,
   "id": "17626d0b-055e-4447-8e08-93131672a347",
   "metadata": {},
   "outputs": [],
   "source": [
    "class CustomTuner(kerastuner.tuners.BayesianOptimization):\n",
    "    def run_trial(self,trial,*args,**kwargs):\n",
    "        kwargs['batch_size'] = trial.hyperparameters.Int('batch_size',32,128,step=32)\n",
    "        return super(CustomTuner,self).run_trial(trial,*args,**kwargs) "
   ]
  },
  {
   "cell_type": "code",
   "execution_count": 46,
   "id": "6d3961f9-7337-4fa7-94ba-5949c4d3fc7a",
   "metadata": {},
   "outputs": [],
   "source": [
    "tunner = CustomTuner(\n",
    "    create_model,\n",
    "    objective='val_accuracy',\n",
    "    max_trials=20,\n",
    "    directory='logs',\n",
    "    project_name='fashion_mnist',\n",
    "    overwrite=True\n",
    ")"
   ]
  },
  {
   "cell_type": "code",
   "execution_count": 47,
   "id": "c3bd057a-eaaf-4b40-bbb7-2deeb0eab958",
   "metadata": {},
   "outputs": [
    {
     "name": "stdout",
     "output_type": "stream",
     "text": [
      "Search space summary\n",
      "Default search space size: 4\n",
      "num_hidden_layers (Choice)\n",
      "{'default': 1, 'conditions': [], 'values': [1, 2, 3], 'ordered': True}\n",
      "num_units (Choice)\n",
      "{'default': 8, 'conditions': [], 'values': [8, 16, 32], 'ordered': True}\n",
      "dropout_rate (Float)\n",
      "{'default': 0.1, 'conditions': [], 'min_value': 0.1, 'max_value': 0.5, 'step': None, 'sampling': 'linear'}\n",
      "learning_rate (Float)\n",
      "{'default': 0.0001, 'conditions': [], 'min_value': 0.0001, 'max_value': 0.01, 'step': None, 'sampling': 'linear'}\n"
     ]
    }
   ],
   "source": [
    "tunner.search_space_summary()"
   ]
  },
  {
   "cell_type": "markdown",
   "id": "55955971-dacf-41db-b70d-6cda2ac93b51",
   "metadata": {},
   "source": [
    "### HyperParameters Tuning Experiment"
   ]
  },
  {
   "cell_type": "code",
   "execution_count": 48,
   "id": "2924d1cd-7cc3-4c12-89fd-e1e34324ebbe",
   "metadata": {},
   "outputs": [
    {
     "name": "stdout",
     "output_type": "stream",
     "text": [
      "INFO:tensorflow:Oracle triggered exit\n"
     ]
    }
   ],
   "source": [
    "tunner.search(\n",
    "    x_train,y_train,\n",
    "    validation_data=(x_test,y_test),\n",
    "    epochs=5,\n",
    "    verbose=False\n",
    ")"
   ]
  },
  {
   "cell_type": "code",
   "execution_count": 49,
   "id": "205e127a-5546-46de-af05-efe36040e61b",
   "metadata": {},
   "outputs": [
    {
     "name": "stdout",
     "output_type": "stream",
     "text": [
      "Results summary\n",
      "Results in logs\\fashion_mnist\n",
      "Showing 1 best trials\n",
      "Objective(name=\"val_accuracy\", direction=\"max\")\n",
      "\n",
      "Trial 17 summary\n",
      "Hyperparameters:\n",
      "num_hidden_layers: 1\n",
      "num_units: 32\n",
      "dropout_rate: 0.1\n",
      "learning_rate: 0.0001\n",
      "batch_size: 32\n",
      "Score: 0.8364999890327454\n"
     ]
    }
   ],
   "source": [
    "tunner.results_summary(1)"
   ]
  },
  {
   "cell_type": "markdown",
   "id": "162fdf29-c294-46d1-84ca-d11f32717f07",
   "metadata": {},
   "source": [
    "### Training Model with tuned hyperparameters"
   ]
  },
  {
   "cell_type": "code",
   "execution_count": 50,
   "id": "c59210e3-1430-44a5-9220-2adcf4778d00",
   "metadata": {},
   "outputs": [
    {
     "name": "stdout",
     "output_type": "stream",
     "text": [
      "Model: \"sequential\"\n",
      "_________________________________________________________________\n",
      " Layer (type)                Output Shape              Param #   \n",
      "=================================================================\n",
      " flatten (Flatten)           (None, 784)               0         \n",
      "                                                                 \n",
      " lambda (Lambda)             (None, 784)               0         \n",
      "                                                                 \n",
      " dense (Dense)               (None, 32)                25120     \n",
      "                                                                 \n",
      " dropout (Dropout)           (None, 32)                0         \n",
      "                                                                 \n",
      " dense_1 (Dense)             (None, 10)                330       \n",
      "                                                                 \n",
      "=================================================================\n",
      "Total params: 25450 (99.41 KB)\n",
      "Trainable params: 25450 (99.41 KB)\n",
      "Non-trainable params: 0 (0.00 Byte)\n",
      "_________________________________________________________________\n"
     ]
    }
   ],
   "source": [
    "model=tunner.get_best_models(num_models=1)[0]\n",
    "model.summary()"
   ]
  },
  {
   "cell_type": "code",
   "execution_count": 51,
   "id": "40403046-706c-465d-86d9-b1579bb0d16d",
   "metadata": {},
   "outputs": [
    {
     "name": "stdout",
     "output_type": "stream",
     "text": [
      "Epoch 1/20\n",
      "1875/1875 [==============================] - 7s 3ms/step - loss: 0.4754 - accuracy: 0.8367 - val_loss: 0.4628 - val_accuracy: 0.8372\n",
      "Epoch 2/20\n",
      "1875/1875 [==============================] - 7s 4ms/step - loss: 0.4598 - accuracy: 0.8410 - val_loss: 0.4523 - val_accuracy: 0.8411\n",
      "Epoch 3/20\n",
      "1875/1875 [==============================] - 6s 3ms/step - loss: 0.4450 - accuracy: 0.8461 - val_loss: 0.4420 - val_accuracy: 0.8446\n",
      "Epoch 4/20\n",
      "1875/1875 [==============================] - 7s 4ms/step - loss: 0.4320 - accuracy: 0.8505 - val_loss: 0.4328 - val_accuracy: 0.8494\n",
      "Epoch 5/20\n",
      "1875/1875 [==============================] - 5s 3ms/step - loss: 0.4252 - accuracy: 0.8536 - val_loss: 0.4277 - val_accuracy: 0.8484\n",
      "Epoch 6/20\n",
      "1875/1875 [==============================] - 5s 3ms/step - loss: 0.4170 - accuracy: 0.8563 - val_loss: 0.4230 - val_accuracy: 0.8519\n",
      "Epoch 7/20\n",
      "1875/1875 [==============================] - 6s 3ms/step - loss: 0.4117 - accuracy: 0.8569 - val_loss: 0.4171 - val_accuracy: 0.8523\n",
      "Epoch 8/20\n",
      "1875/1875 [==============================] - 6s 3ms/step - loss: 0.4034 - accuracy: 0.8602 - val_loss: 0.4103 - val_accuracy: 0.8537\n",
      "Epoch 9/20\n",
      "1875/1875 [==============================] - 7s 4ms/step - loss: 0.3969 - accuracy: 0.8607 - val_loss: 0.4100 - val_accuracy: 0.8532\n",
      "Epoch 10/20\n",
      "1875/1875 [==============================] - 6s 3ms/step - loss: 0.3937 - accuracy: 0.8618 - val_loss: 0.4064 - val_accuracy: 0.8565\n",
      "Epoch 11/20\n",
      "1875/1875 [==============================] - 9s 5ms/step - loss: 0.3879 - accuracy: 0.8634 - val_loss: 0.4008 - val_accuracy: 0.8598\n",
      "Epoch 12/20\n",
      "1875/1875 [==============================] - 7s 4ms/step - loss: 0.3841 - accuracy: 0.8657 - val_loss: 0.3989 - val_accuracy: 0.8577\n",
      "Epoch 13/20\n",
      "1875/1875 [==============================] - 10s 5ms/step - loss: 0.3797 - accuracy: 0.8659 - val_loss: 0.3943 - val_accuracy: 0.8620\n",
      "Epoch 14/20\n",
      "1875/1875 [==============================] - 9s 5ms/step - loss: 0.3742 - accuracy: 0.8684 - val_loss: 0.3916 - val_accuracy: 0.8621\n",
      "Epoch 15/20\n",
      "1875/1875 [==============================] - 9s 5ms/step - loss: 0.3715 - accuracy: 0.8696 - val_loss: 0.3922 - val_accuracy: 0.8608\n",
      "Epoch 16/20\n",
      "1875/1875 [==============================] - 6s 3ms/step - loss: 0.3691 - accuracy: 0.8698 - val_loss: 0.3874 - val_accuracy: 0.8631\n",
      "Epoch 17/20\n",
      "1875/1875 [==============================] - 6s 3ms/step - loss: 0.3654 - accuracy: 0.8716 - val_loss: 0.3846 - val_accuracy: 0.8644\n",
      "Epoch 18/20\n",
      "1875/1875 [==============================] - 7s 4ms/step - loss: 0.3628 - accuracy: 0.8721 - val_loss: 0.3829 - val_accuracy: 0.8663\n",
      "Epoch 19/20\n",
      "1875/1875 [==============================] - 6s 3ms/step - loss: 0.3590 - accuracy: 0.8734 - val_loss: 0.3823 - val_accuracy: 0.8653\n",
      "Epoch 20/20\n",
      "1875/1875 [==============================] - 7s 3ms/step - loss: 0.3577 - accuracy: 0.8740 - val_loss: 0.3797 - val_accuracy: 0.8657\n"
     ]
    }
   ],
   "source": [
    "_=model.fit(\n",
    "    x_train,y_train,\n",
    "    validation_data=(x_test,y_test),\n",
    "    epochs=20,\n",
    "    callbacks=[tf.keras.callbacks.EarlyStopping(monitor='val_accuracy',patience=3)]\n",
    ")"
   ]
  },
  {
   "cell_type": "code",
   "execution_count": null,
   "id": "834d5e2f-c712-4663-bf0d-0623337f8988",
   "metadata": {},
   "outputs": [],
   "source": []
  }
 ],
 "metadata": {
  "kernelspec": {
   "display_name": "ML",
   "language": "python",
   "name": "ml"
  },
  "language_info": {
   "codemirror_mode": {
    "name": "ipython",
    "version": 3
   },
   "file_extension": ".py",
   "mimetype": "text/x-python",
   "name": "python",
   "nbconvert_exporter": "python",
   "pygments_lexer": "ipython3",
   "version": "3.10.12"
  }
 },
 "nbformat": 4,
 "nbformat_minor": 5
}
